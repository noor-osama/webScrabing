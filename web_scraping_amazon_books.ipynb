{
 "cells": [
  {
   "cell_type": "code",
   "execution_count": 73,
   "id": "eaa8e0a3",
   "metadata": {},
   "outputs": [],
   "source": [
    "from selenium import webdriver\n",
    "import pandas as pd"
   ]
  },
  {
   "cell_type": "code",
   "execution_count": 76,
   "id": "7991efad",
   "metadata": {
    "scrolled": false
   },
   "outputs": [
    {
     "name": "stderr",
     "output_type": "stream",
     "text": [
      "<ipython-input-76-701782a32276>:1: DeprecationWarning: executable_path has been deprecated, please pass in a Service object\n",
      "  driver = webdriver.Firefox(executable_path = r\"D:\\Omar\\ITI - AI\\firefox webscraper\\geckodriver.exe\")\n"
     ]
    }
   ],
   "source": [
    "driver = webdriver.Firefox(executable_path = r\"D:\\Omar\\ITI - AI\\firefox webscraper\\geckodriver.exe\")"
   ]
  },
  {
   "cell_type": "code",
   "execution_count": 86,
   "id": "b29aa2be",
   "metadata": {},
   "outputs": [],
   "source": [
    "driver.get(\"https://www.amazon.in/gp/bestsellers/books/\")"
   ]
  },
  {
   "cell_type": "code",
   "execution_count": 87,
   "id": "39949393",
   "metadata": {
    "scrolled": false
   },
   "outputs": [
    {
     "name": "stderr",
     "output_type": "stream",
     "text": [
      "<ipython-input-87-71cc59b710af>:1: DeprecationWarning: find_elements_by_* commands are deprecated. Please use find_elements() instead\n",
      "  books_titles = driver.find_elements_by_xpath(\"//a/span/div[@class='_p13n-zg-list-grid-desktop_truncationStyles_p13n-sc-css-line-clamp-1__1Fn1y']\")\n",
      "<ipython-input-87-71cc59b710af>:3: DeprecationWarning: find_elements_by_* commands are deprecated. Please use find_elements() instead\n",
      "  books_prices = driver.find_elements_by_xpath(\"//span[@class='_p13n-zg-list-grid-desktop_price_p13n-sc-price__3mJ9Z']\")\n"
     ]
    }
   ],
   "source": [
    "books_titles = driver.find_elements_by_xpath(\"//a/span/div[@class='_p13n-zg-list-grid-desktop_truncationStyles_p13n-sc-css-line-clamp-1__1Fn1y']\")\n",
    "\n",
    "books_prices = driver.find_elements_by_xpath(\"//span[@class='_p13n-zg-list-grid-desktop_price_p13n-sc-price__3mJ9Z']\")"
   ]
  },
  {
   "cell_type": "code",
   "execution_count": 93,
   "id": "83621ba2",
   "metadata": {
    "scrolled": true
   },
   "outputs": [
    {
     "name": "stdout",
     "output_type": "stream",
     "text": [
      "The Psychology of Money\n",
      "Atomic Habits: The life-changing million copy bestseller\n",
      "My First Library: Boxset of 10 Board Books for Kids\n",
      "Ikigai: The Japanese secret to a long and happy life\n",
      "Rich Dad Poor Dad: What the Rich Teach Their Kids About Money That the Poor and Middle Class Do Not!\n",
      "Word Power Made Easy\n",
      "DO EPIC SHIT\n",
      "27 Years UPSC IAS/ IPS Prelims Topic-wise Solved Papers 1 & 2 (1995 - 2021) 12th Edition\n",
      "Educart Term 2 Class 10 Sample Papers Bundle of Science, Math Standard, Social Science & English Books For 2022 (Based on the CBSE Term-2 Subjective Sample Paper released on 14 Jan 2022) Edubook\n",
      "Life's Amazing Secrets: How to Find Balance and Purpose in Your Life | Inspirational Zen book on motivation, self-development & healthy living\n",
      "It Ends With Us: A Novel\n",
      "Grandma's Bag of Stories: Collection of 20+ Illustrated short stories, traditional Indian folk tales for all ages for children of all ages by Sudha Murty\n",
      "Oswaal CBSE Term 2 English Science Social Science & Math Standard Class 10 Sample Question Paper (Set of 4 Books) (For Term-2 2022 Exam) Free Access Code For Oswaal 360\n",
      "The Subtle Art of Not Giving a F*ck: A Counterintuitive Approach to Living a Good Life\n",
      "The Alchemist\n",
      "The Power of Your Subconscious Mind\n",
      "Oswaal CBSE Question Bank Chapterwise For Term 2, Class 10 (Set of 4 Books) English Language & Literature, Science, Social Science & Math (Standard) (For 2022 Exam)\n",
      "My First Book of Pencil Control : Practice Pattern Writing (Full Color Pages): Patterns Practice book for kids (Pattern Writing)\n",
      "What I Love About You and Our Memories: A Fill-in-the-Blank Gift for Valentines Day, Birthday, Anniversary Gifts for Husband, Wife, Boyfriend and Girlfriend (english)\n",
      "My First Mythology Tale (Illustrated) (Set of 5 Books) - Mahabharata, Krishna, Hanuman, Ganesha, Ramayana - Story Book for Kids\n",
      "Moral Story Books for Kids (Pack of 10 Books) | 160 Total Pages | Illustrated Stories\n",
      "400 Days\n",
      "Eat That Frog!: 21 Great Ways to Stop Procrastinating and Get More Done in Less Time\n",
      "Quantitative Aptitude for Competitive Examinations\n",
      "World’s Greatest Books For Personal Growth & Wealth (Set of 4 Books): Perfect Motivational Gift Set\n",
      "How to Win Friends and Influence People\n",
      "Very First Sight Words Sentences Level 1\n",
      "The Almanack Of Naval Ravikant: A Guide to Wealth and Happiness\n",
      "Attitude Is Everything: Change Your Attitude ... Change Your Life!\n"
     ]
    }
   ],
   "source": [
    "for i in books_titles:\n",
    "    print(i.text)"
   ]
  },
  {
   "cell_type": "code",
   "execution_count": 92,
   "id": "9aeedc8c",
   "metadata": {
    "scrolled": true
   },
   "outputs": [
    {
     "name": "stdout",
     "output_type": "stream",
     "text": [
      "₹225.00\n",
      "₹541.00\n",
      "₹365.00\n",
      "₹313.00\n",
      "₹243.00\n",
      "₹89.00\n",
      "₹344.00\n",
      "₹349.00\n",
      "₹435.00\n",
      "₹141.00\n",
      "₹195.00\n",
      "₹147.00\n",
      "₹499.00\n",
      "₹243.00\n",
      "₹229.00\n",
      "₹125.00\n",
      "₹848.00\n",
      "₹89.00\n",
      "₹246.00\n",
      "₹180.00\n",
      "₹235.00\n",
      "₹153.00\n",
      "₹167.00\n",
      "₹467.00\n",
      "₹279.00\n",
      "₹99.00\n",
      "₹110.00\n",
      "₹232.00\n",
      "₹150.00\n"
     ]
    }
   ],
   "source": [
    "for i in books_prices:\n",
    "    print(i.text)"
   ]
  },
  {
   "cell_type": "code",
   "execution_count": 94,
   "id": "43043208",
   "metadata": {
    "scrolled": false
   },
   "outputs": [],
   "source": [
    "titles = []\n",
    "for i in books_titles:\n",
    "    titles.append(i.text)\n",
    "    \n",
    "prices = []\n",
    "for i in books_prices:\n",
    "    prices.append(i.text)\n",
    "\n",
    "d = {\"Book Title\":titles, \"Book Price\":prices}\n",
    "df = pd.DataFrame(data=d, )\n",
    "df.to_csv(\"amazon_books.csv\",index=False)   "
   ]
  }
 ],
 "metadata": {
  "kernelspec": {
   "display_name": "Python 3",
   "language": "python",
   "name": "python3"
  },
  "language_info": {
   "codemirror_mode": {
    "name": "ipython",
    "version": 3
   },
   "file_extension": ".py",
   "mimetype": "text/x-python",
   "name": "python",
   "nbconvert_exporter": "python",
   "pygments_lexer": "ipython3",
   "version": "3.8.3"
  }
 },
 "nbformat": 4,
 "nbformat_minor": 5
}
